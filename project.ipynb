{
 "cells": [
  {
   "cell_type": "markdown",
   "id": "8587749f",
   "metadata": {},
   "source": [
    "This project seeks to address the classification problem of whether a browsing of an online shop results in a purchase or not. I will fit a simple logistic regression, gradient boosting classifier and a nonlinear support vector machine classifier to the data to try to predict if an online browsing results in a purchase. Nowadays many people choose to shop online than go to stores because it is convenient. For many online shops, identifying the relevant factors to when a customer makes a purchase online and the relative importance of each factor is a very useful information that can help choose what to put more resource in such as advertising. In my project, I will use the time of the year and whether a customer is a new or a returning visitor. For this project, I will use the Online Shoppers Purchasing Intention Dataset Data Set found at \n",
    "<br>\n",
    "https://archive.ics.uci.edu/ml/datasets/Online+Shoppers+Purchasing+Intention+Dataset# \n",
    "<br>\n",
    "and the citation is \n",
    "<br>\n",
    "Sakar, C.O., Polat, S.O., Katircioglu, M. et al. Real-time prediction of online shoppers’ purchasing intention using multilayer perceptron and LSTM recurrent neural networks. Neural Comput & Applic 31, 6893–6908 (2019). https://doi.org/10.1007/s00521-018-3523-0 .\n",
    "<br>\n",
    "The dataset is from UCI Machine Learning Repository and it contains 12330 different data points from different users in a one year time period."
   ]
  },
  {
   "cell_type": "code",
   "execution_count": 116,
   "id": "77392088",
   "metadata": {},
   "outputs": [],
   "source": [
    "import pandas as pd\n",
    "import numpy as np\n",
    "import matplotlib.pyplot as plt\n",
    "%matplotlib inline\n",
    "import math\n",
    "from sklearn.linear_model import LogisticRegression\n",
    "from sklearn.model_selection import train_test_split, cross_val_score\n",
    "from sklearn.metrics import RocCurveDisplay, PrecisionRecallDisplay, ConfusionMatrixDisplay\n",
    "from sklearn.tree import DecisionTreeClassifier\n",
    "from sklearn.base import clone\n",
    "import seaborn as sns\n",
    "import statsmodels.formula.api as smf\n",
    "from statsmodels.stats.outliers_influence import variance_inflation_factor\n",
    "from sklearn.ensemble import GradientBoostingClassifier\n",
    "from sklearn.svm import SVC\n",
    "from sklearn.model_selection import cross_val_score, GridSearchCV"
   ]
  },
  {
   "cell_type": "code",
   "execution_count": 117,
   "id": "f34080ae",
   "metadata": {},
   "outputs": [
    {
     "name": "stdout",
     "output_type": "stream",
     "text": [
      "<class 'pandas.core.frame.DataFrame'>\n",
      "RangeIndex: 12330 entries, 0 to 12329\n",
      "Data columns (total 18 columns):\n",
      " #   Column                   Non-Null Count  Dtype  \n",
      "---  ------                   --------------  -----  \n",
      " 0   Administrative           12330 non-null  int64  \n",
      " 1   Administrative_Duration  12330 non-null  float64\n",
      " 2   Informational            12330 non-null  int64  \n",
      " 3   Informational_Duration   12330 non-null  float64\n",
      " 4   ProductRelated           12330 non-null  int64  \n",
      " 5   ProductRelated_Duration  12330 non-null  float64\n",
      " 6   BounceRates              12330 non-null  float64\n",
      " 7   ExitRates                12330 non-null  float64\n",
      " 8   PageValues               12330 non-null  float64\n",
      " 9   SpecialDay               12330 non-null  float64\n",
      " 10  Month                    12330 non-null  object \n",
      " 11  OperatingSystems         12330 non-null  int64  \n",
      " 12  Browser                  12330 non-null  int64  \n",
      " 13  Region                   12330 non-null  int64  \n",
      " 14  TrafficType              12330 non-null  int64  \n",
      " 15  VisitorType              12330 non-null  object \n",
      " 16  Weekend                  12330 non-null  bool   \n",
      " 17  Revenue                  12330 non-null  bool   \n",
      "dtypes: bool(2), float64(7), int64(7), object(2)\n",
      "memory usage: 1.5+ MB\n"
     ]
    }
   ],
   "source": [
    "data = pd.read_csv(\"https://archive.ics.uci.edu/ml/machine-learning-databases/00468/online_shoppers_intention.csv\")\n",
    "data.info()"
   ]
  },
  {
   "cell_type": "markdown",
   "id": "d423739b",
   "metadata": {},
   "source": [
    "This tabulated data has 12330 rows and 18 columns, the memory usage is 1.5+ MB, 8 categorical and 10 numeric features, \"SpecialDay\" is a measure of how close the time is to a celebration day, \"VisitorType\" indicates whether a customer is a new or a returning visitor and \"Revenue\" is the variable I want to predict."
   ]
  },
  {
   "cell_type": "markdown",
   "id": "c85bda45",
   "metadata": {},
   "source": [
    "For this project, I am only interested in some features, so I will drop the features that I am not interested in."
   ]
  },
  {
   "cell_type": "code",
   "execution_count": 118,
   "id": "82ed9aae",
   "metadata": {},
   "outputs": [
    {
     "name": "stdout",
     "output_type": "stream",
     "text": [
      "<class 'pandas.core.frame.DataFrame'>\n",
      "RangeIndex: 12330 entries, 0 to 12329\n",
      "Data columns (total 9 columns):\n",
      " #   Column            Non-Null Count  Dtype  \n",
      "---  ------            --------------  -----  \n",
      " 0   SpecialDay        12330 non-null  float64\n",
      " 1   Month             12330 non-null  object \n",
      " 2   OperatingSystems  12330 non-null  int64  \n",
      " 3   Browser           12330 non-null  int64  \n",
      " 4   Region            12330 non-null  int64  \n",
      " 5   TrafficType       12330 non-null  int64  \n",
      " 6   VisitorType       12330 non-null  object \n",
      " 7   Weekend           12330 non-null  bool   \n",
      " 8   Revenue           12330 non-null  bool   \n",
      "dtypes: bool(2), float64(1), int64(4), object(2)\n",
      "memory usage: 698.5+ KB\n"
     ]
    }
   ],
   "source": [
    "delete = []\n",
    "for i in range(len(data.columns)):\n",
    "    if i < 9:\n",
    "        delete.append(data.columns[i])\n",
    "data.drop(columns=delete, inplace=True)\n",
    "data.info()"
   ]
  },
  {
   "cell_type": "markdown",
   "id": "a7d8da0a",
   "metadata": {},
   "source": [
    "Now I inspect each feature to check if all of them are important to my analysis and drop if any feature is not."
   ]
  },
  {
   "cell_type": "code",
   "execution_count": 119,
   "id": "4388448a",
   "metadata": {},
   "outputs": [
    {
     "data": {
      "text/plain": [
       "0        0.0\n",
       "1        0.0\n",
       "2        0.0\n",
       "3        0.0\n",
       "4        0.0\n",
       "        ... \n",
       "12325    0.0\n",
       "12326    0.0\n",
       "12327    0.0\n",
       "12328    0.0\n",
       "12329    0.0\n",
       "Name: SpecialDay, Length: 12330, dtype: float64"
      ]
     },
     "execution_count": 119,
     "metadata": {},
     "output_type": "execute_result"
    }
   ],
   "source": [
    "data['SpecialDay']"
   ]
  },
  {
   "cell_type": "code",
   "execution_count": 120,
   "id": "ee1888e4",
   "metadata": {},
   "outputs": [
    {
     "data": {
      "text/plain": [
       "May     3364\n",
       "Nov     2998\n",
       "Mar     1907\n",
       "Dec     1727\n",
       "Oct      549\n",
       "Sep      448\n",
       "Aug      433\n",
       "Jul      432\n",
       "June     288\n",
       "Feb      184\n",
       "Name: Month, dtype: int64"
      ]
     },
     "execution_count": 120,
     "metadata": {},
     "output_type": "execute_result"
    }
   ],
   "source": [
    "data['Month'].value_counts()"
   ]
  },
  {
   "cell_type": "code",
   "execution_count": 121,
   "id": "48b88013",
   "metadata": {},
   "outputs": [],
   "source": [
    "data['OperatingSystems']\n",
    "data.drop(columns=['OperatingSystems'], inplace=True)"
   ]
  },
  {
   "cell_type": "code",
   "execution_count": 122,
   "id": "73d702d1",
   "metadata": {},
   "outputs": [],
   "source": [
    "data['Browser']\n",
    "data.drop(columns=['Browser'], inplace=True)"
   ]
  },
  {
   "cell_type": "code",
   "execution_count": 123,
   "id": "1d2a2e4a",
   "metadata": {},
   "outputs": [],
   "source": [
    "data['Region']\n",
    "data.drop(columns=['Region'], inplace=True)"
   ]
  },
  {
   "cell_type": "code",
   "execution_count": 124,
   "id": "0110e0fa",
   "metadata": {},
   "outputs": [],
   "source": [
    "data['TrafficType']\n",
    "data.drop(columns=['TrafficType'], inplace=True)"
   ]
  },
  {
   "cell_type": "code",
   "execution_count": 125,
   "id": "0779e15e",
   "metadata": {},
   "outputs": [
    {
     "data": {
      "text/plain": [
       "0        Returning_Visitor\n",
       "1        Returning_Visitor\n",
       "2        Returning_Visitor\n",
       "3        Returning_Visitor\n",
       "4        Returning_Visitor\n",
       "               ...        \n",
       "12325    Returning_Visitor\n",
       "12326    Returning_Visitor\n",
       "12327    Returning_Visitor\n",
       "12328    Returning_Visitor\n",
       "12329          New_Visitor\n",
       "Name: VisitorType, Length: 12330, dtype: object"
      ]
     },
     "execution_count": 125,
     "metadata": {},
     "output_type": "execute_result"
    }
   ],
   "source": [
    "data['VisitorType']"
   ]
  },
  {
   "cell_type": "code",
   "execution_count": 126,
   "id": "6c93c54c",
   "metadata": {},
   "outputs": [
    {
     "data": {
      "text/plain": [
       "0        False\n",
       "1        False\n",
       "2        False\n",
       "3        False\n",
       "4         True\n",
       "         ...  \n",
       "12325     True\n",
       "12326     True\n",
       "12327     True\n",
       "12328    False\n",
       "12329     True\n",
       "Name: Weekend, Length: 12330, dtype: bool"
      ]
     },
     "execution_count": 126,
     "metadata": {},
     "output_type": "execute_result"
    }
   ],
   "source": [
    "data['Weekend']"
   ]
  },
  {
   "cell_type": "code",
   "execution_count": 127,
   "id": "fddac94e",
   "metadata": {},
   "outputs": [
    {
     "data": {
      "text/plain": [
       "0        False\n",
       "1        False\n",
       "2        False\n",
       "3        False\n",
       "4        False\n",
       "         ...  \n",
       "12325    False\n",
       "12326    False\n",
       "12327    False\n",
       "12328    False\n",
       "12329    False\n",
       "Name: Revenue, Length: 12330, dtype: bool"
      ]
     },
     "execution_count": 127,
     "metadata": {},
     "output_type": "execute_result"
    }
   ],
   "source": [
    "data['Revenue']"
   ]
  },
  {
   "cell_type": "code",
   "execution_count": 128,
   "id": "f5894234",
   "metadata": {},
   "outputs": [
    {
     "name": "stdout",
     "output_type": "stream",
     "text": [
      "<class 'pandas.core.frame.DataFrame'>\n",
      "RangeIndex: 12330 entries, 0 to 12329\n",
      "Data columns (total 5 columns):\n",
      " #   Column       Non-Null Count  Dtype  \n",
      "---  ------       --------------  -----  \n",
      " 0   SpecialDay   12330 non-null  float64\n",
      " 1   Month        12330 non-null  object \n",
      " 2   VisitorType  12330 non-null  object \n",
      " 3   Weekend      12330 non-null  bool   \n",
      " 4   Revenue      12330 non-null  bool   \n",
      "dtypes: bool(2), float64(1), object(2)\n",
      "memory usage: 313.2+ KB\n"
     ]
    }
   ],
   "source": [
    "data.info()"
   ]
  },
  {
   "cell_type": "markdown",
   "id": "e1420bf1",
   "metadata": {},
   "source": [
    "Now that I have the features I want in my analysis, I check each of them for potential issues before starting my analysis."
   ]
  },
  {
   "cell_type": "code",
   "execution_count": 129,
   "id": "6e04c8d3",
   "metadata": {},
   "outputs": [
    {
     "name": "stdout",
     "output_type": "stream",
     "text": [
      "SpecialDay [0.  0.4 0.8 1.  0.2 0.6]\n",
      "Month ['Feb' 'Mar' 'May' 'Oct' 'June' 'Jul' 'Aug' 'Nov' 'Sep' 'Dec']\n",
      "VisitorType ['Returning_Visitor' 'New_Visitor' 'Other']\n",
      "Weekend [False  True]\n",
      "Revenue [False  True]\n"
     ]
    }
   ],
   "source": [
    "for col in data.columns:\n",
    "    print(col, data[col].unique())"
   ]
  },
  {
   "cell_type": "markdown",
   "id": "8afaa04a",
   "metadata": {},
   "source": [
    "I see that VisitorType has 'Other' and let's inspect how many observations have 'Other'."
   ]
  },
  {
   "cell_type": "code",
   "execution_count": 130,
   "id": "81b6489f",
   "metadata": {},
   "outputs": [
    {
     "data": {
      "text/plain": [
       "Returning_Visitor    10551\n",
       "New_Visitor           1694\n",
       "Other                   85\n",
       "Name: VisitorType, dtype: int64"
      ]
     },
     "execution_count": 130,
     "metadata": {},
     "output_type": "execute_result"
    }
   ],
   "source": [
    "data['VisitorType'].value_counts()"
   ]
  },
  {
   "cell_type": "markdown",
   "id": "3a122ef5",
   "metadata": {},
   "source": [
    "Since the number of observations with 'Other' is not many and there is no clear way to impute values for these observations, I will drop rows with 'Other' as the visitor type."
   ]
  },
  {
   "cell_type": "code",
   "execution_count": 131,
   "id": "be42ef95",
   "metadata": {},
   "outputs": [
    {
     "name": "stdout",
     "output_type": "stream",
     "text": [
      "<class 'pandas.core.frame.DataFrame'>\n",
      "Int64Index: 12245 entries, 0 to 12329\n",
      "Data columns (total 5 columns):\n",
      " #   Column       Non-Null Count  Dtype  \n",
      "---  ------       --------------  -----  \n",
      " 0   SpecialDay   12245 non-null  float64\n",
      " 1   Month        12245 non-null  object \n",
      " 2   VisitorType  12245 non-null  object \n",
      " 3   Weekend      12245 non-null  bool   \n",
      " 4   Revenue      12245 non-null  bool   \n",
      "dtypes: bool(2), float64(1), object(2)\n",
      "memory usage: 406.6+ KB\n"
     ]
    }
   ],
   "source": [
    "indexes = []\n",
    "for i in range(len(data)):\n",
    "    if data['VisitorType'][i] == 'Other':\n",
    "        indexes.append(i)\n",
    "data.drop(index=indexes, inplace=True)\n",
    "data.info()"
   ]
  },
  {
   "cell_type": "markdown",
   "id": "567fbc75",
   "metadata": {},
   "source": [
    "To make later analysis easier, I will change the Dtypes of some of the features to int."
   ]
  },
  {
   "cell_type": "code",
   "execution_count": 132,
   "id": "38678213",
   "metadata": {},
   "outputs": [],
   "source": [
    "data['Weekend'] = data['Weekend'].astype(int)\n",
    "data['Revenue'] = data['Revenue'].astype(int)\n",
    "data.loc[data['VisitorType'] == 'Returning_Visitor', 'VisitorType'] = 1\n",
    "data.loc[data['VisitorType'] == 'New_Visitor', 'VisitorType'] = 0\n",
    "data.loc[data['Month'] == 'Feb', 'Month'] = 2\n",
    "data.loc[data['Month'] == 'Mar', 'Month'] = 3\n",
    "data.loc[data['Month'] == 'May', 'Month'] = 5\n",
    "data.loc[data['Month'] == 'Oct', 'Month'] = 10\n",
    "data.loc[data['Month'] == 'June', 'Month'] = 6\n",
    "data.loc[data['Month'] == 'Jul', 'Month'] = 7\n",
    "data.loc[data['Month'] == 'Aug', 'Month'] = 8\n",
    "data.loc[data['Month'] == 'Nov', 'Month'] = 11\n",
    "data.loc[data['Month'] == 'Sep', 'Month'] = 9\n",
    "data.loc[data['Month'] == 'Dec', 'Month'] = 12\n",
    "data['VisitorType'] = data['VisitorType'].astype(int)\n",
    "data['Month'] = data['Month'].astype(int)"
   ]
  },
  {
   "cell_type": "code",
   "execution_count": 133,
   "id": "d2f89e21",
   "metadata": {},
   "outputs": [
    {
     "name": "stdout",
     "output_type": "stream",
     "text": [
      "<class 'pandas.core.frame.DataFrame'>\n",
      "Int64Index: 12245 entries, 0 to 12329\n",
      "Data columns (total 5 columns):\n",
      " #   Column       Non-Null Count  Dtype  \n",
      "---  ------       --------------  -----  \n",
      " 0   SpecialDay   12245 non-null  float64\n",
      " 1   Month        12245 non-null  int32  \n",
      " 2   VisitorType  12245 non-null  int32  \n",
      " 3   Weekend      12245 non-null  int32  \n",
      " 4   Revenue      12245 non-null  int32  \n",
      "dtypes: float64(1), int32(4)\n",
      "memory usage: 382.7 KB\n",
      "SpecialDay [0.  0.4 0.8 1.  0.2 0.6]\n",
      "Month [ 2  3  5 10  6  7  8 11  9 12]\n",
      "VisitorType [1 0]\n",
      "Weekend [0 1]\n",
      "Revenue [0 1]\n"
     ]
    }
   ],
   "source": [
    "data.info()\n",
    "for col in data.columns:\n",
    "    print(col, data[col].unique())"
   ]
  },
  {
   "cell_type": "markdown",
   "id": "c9a4bd8d",
   "metadata": {},
   "source": [
    "To have a better idea of the dataset, let's visualize each column."
   ]
  },
  {
   "cell_type": "code",
   "execution_count": 134,
   "id": "fab0e2da",
   "metadata": {},
   "outputs": [
    {
     "data": {
      "text/plain": [
       "Text(0.5, 1.0, 'SpecialDay')"
      ]
     },
     "execution_count": 134,
     "metadata": {},
     "output_type": "execute_result"
    },
    {
     "data": {
      "image/png": "[encoded data removed]",
      "text/plain": [
       "<Figure size 432x288 with 1 Axes>"
      ]
     },
     "metadata": {
      "needs_background": "light"
     },
     "output_type": "display_data"
    }
   ],
   "source": [
    "data['SpecialDay'].hist()\n",
    "plt.title('SpecialDay')"
   ]
  },
  {
   "cell_type": "markdown",
   "id": "b75b7313",
   "metadata": {},
   "source": [
    "From the histogram, I conclude that not many days are close to a special day which makes sense because most days in a year are not close to a special day."
   ]
  },
  {
   "cell_type": "code",
   "execution_count": 135,
   "id": "1cc8d9aa",
   "metadata": {},
   "outputs": [
    {
     "data": {
      "text/plain": [
       "Text(0.5, 1.0, 'Month')"
      ]
     },
     "execution_count": 135,
     "metadata": {},
     "output_type": "execute_result"
    },
    {
     "data": {
      "image/png": "[encoded data removed]",
      "text/plain": [
       "<Figure size 432x288 with 1 Axes>"
      ]
     },
     "metadata": {
      "needs_background": "light"
     },
     "output_type": "display_data"
    }
   ],
   "source": [
    "data['Month'].hist()\n",
    "plt.title('Month')"
   ]
  },
  {
   "cell_type": "code",
   "execution_count": 136,
   "id": "a96856ec",
   "metadata": {},
   "outputs": [
    {
     "data": {
      "text/plain": [
       "5     3364\n",
       "11    2976\n",
       "3     1907\n",
       "12    1665\n",
       "10     549\n",
       "9      448\n",
       "8      433\n",
       "7      432\n",
       "6      287\n",
       "2      184\n",
       "Name: Month, dtype: int64"
      ]
     },
     "execution_count": 136,
     "metadata": {},
     "output_type": "execute_result"
    }
   ],
   "source": [
    "data['Month'].value_counts()"
   ]
  },
  {
   "cell_type": "markdown",
   "id": "bced4b54",
   "metadata": {},
   "source": [
    "The months of January and April are missing in this dataset but I think this dataset is still useful to my analysis because all the other months are in the dataset."
   ]
  },
  {
   "cell_type": "code",
   "execution_count": 137,
   "id": "a5128848",
   "metadata": {},
   "outputs": [
    {
     "data": {
      "text/plain": [
       "1    10551\n",
       "0     1694\n",
       "Name: VisitorType, dtype: int64"
      ]
     },
     "execution_count": 137,
     "metadata": {},
     "output_type": "execute_result"
    }
   ],
   "source": [
    "data['VisitorType'].value_counts()"
   ]
  },
  {
   "cell_type": "markdown",
   "id": "fc758fc7",
   "metadata": {},
   "source": [
    "Most visitors are returning visitors."
   ]
  },
  {
   "cell_type": "code",
   "execution_count": 138,
   "id": "89fa05cf",
   "metadata": {},
   "outputs": [
    {
     "data": {
      "text/plain": [
       "0    9384\n",
       "1    2861\n",
       "Name: Weekend, dtype: int64"
      ]
     },
     "execution_count": 138,
     "metadata": {},
     "output_type": "execute_result"
    }
   ],
   "source": [
    "data['Weekend'].value_counts()"
   ]
  },
  {
   "cell_type": "markdown",
   "id": "7fdc1bc6",
   "metadata": {},
   "source": [
    "Most observations did not happen during the weekends."
   ]
  },
  {
   "cell_type": "code",
   "execution_count": 139,
   "id": "fa023558",
   "metadata": {},
   "outputs": [
    {
     "data": {
      "text/plain": [
       "0    10353\n",
       "1     1892\n",
       "Name: Revenue, dtype: int64"
      ]
     },
     "execution_count": 139,
     "metadata": {},
     "output_type": "execute_result"
    }
   ],
   "source": [
    "data['Revenue'].value_counts()"
   ]
  },
  {
   "cell_type": "markdown",
   "id": "ed65172f",
   "metadata": {},
   "source": [
    "Most observations did not result in a purchase."
   ]
  },
  {
   "cell_type": "code",
   "execution_count": 140,
   "id": "a3653155",
   "metadata": {},
   "outputs": [
    {
     "name": "stdout",
     "output_type": "stream",
     "text": [
      "             SpecialDay     Month  VisitorType   Weekend   Revenue\n",
      "SpecialDay     1.000000 -0.255738     0.083670 -0.017569 -0.082468\n",
      "Month         -0.255738  1.000000    -0.094467  0.020197  0.127621\n",
      "VisitorType    0.083670 -0.094467     1.000000 -0.046509 -0.104876\n",
      "Weekend       -0.017569  0.020197    -0.046509  1.000000  0.029871\n",
      "Revenue       -0.082468  0.127621    -0.104876  0.029871  1.000000\n"
     ]
    },
    {
     "data": {
      "text/plain": [
       "<seaborn.axisgrid.PairGrid at 0x201726812e0>"
      ]
     },
     "execution_count": 140,
     "metadata": {},
     "output_type": "execute_result"
    },
    {
     "data": {
      "image/png": "[encoded data removed]",
      "text/plain": [
       "<Figure size 432x288 with 2 Axes>"
      ]
     },
     "metadata": {
      "needs_background": "light"
     },
     "output_type": "display_data"
    },
    {
     "data": {
      "image/png": "[encoded data removed]",
      "text/plain": [
       "<Figure size 720x720 with 20 Axes>"
      ]
     },
     "metadata": {
      "needs_background": "light"
     },
     "output_type": "display_data"
    }
   ],
   "source": [
    "corr = data.corr()\n",
    "print(corr)\n",
    "sns.heatmap(corr)\n",
    "sns.pairplot(data, vars = data.columns[:4], diag_kind = \"kde\")"
   ]
  },
  {
   "cell_type": "markdown",
   "id": "5a850107",
   "metadata": {},
   "source": [
    "From the correlation matrix, 'SpecialDay' has a negative correlation with 'Revenue'. 'SpecialDay' and 'Revenue' having a negative correlation is not expected, so I will do a linear regression and look at the significance of the coefficient."
   ]
  },
  {
   "cell_type": "code",
   "execution_count": 141,
   "id": "99548442",
   "metadata": {},
   "outputs": [
    {
     "name": "stdout",
     "output_type": "stream",
     "text": [
      "                            OLS Regression Results                            \n",
      "==============================================================================\n",
      "Dep. Variable:                Revenue   R-squared:                       0.007\n",
      "Model:                            OLS   Adj. R-squared:                  0.007\n",
      "Method:                 Least Squares   F-statistic:                     83.84\n",
      "Date:                Mon, 06 Mar 2023   Prob (F-statistic):           6.22e-20\n",
      "Time:                        11:50:16   Log-Likelihood:                -4871.8\n",
      "No. Observations:               12245   AIC:                             9748.\n",
      "Df Residuals:                   12243   BIC:                             9763.\n",
      "Df Model:                           1                                         \n",
      "Covariance Type:            nonrobust                                         \n",
      "==============================================================================\n",
      "                 coef    std err          t      P>|t|      [0.025      0.975]\n",
      "------------------------------------------------------------------------------\n",
      "Intercept      0.1638      0.003     48.046      0.000       0.157       0.170\n",
      "SpecialDay    -0.1494      0.016     -9.156      0.000      -0.181      -0.117\n",
      "==============================================================================\n",
      "Omnibus:                     3826.594   Durbin-Watson:                   1.990\n",
      "Prob(Omnibus):                  0.000   Jarque-Bera (JB):             8604.374\n",
      "Skew:                           1.889   Prob(JB):                         0.00\n",
      "Kurtosis:                       4.611   Cond. No.                         5.03\n",
      "==============================================================================\n",
      "\n",
      "Notes:\n",
      "[1] Standard Errors assume that the covariance matrix of the errors is correctly specified.\n"
     ]
    }
   ],
   "source": [
    "model = smf.ols(formula = 'Revenue ~ SpecialDay', data = data).fit()\n",
    "print(model.summary())"
   ]
  },
  {
   "cell_type": "markdown",
   "id": "24c554ae",
   "metadata": {},
   "source": [
    "From the regression result, 'SpecialDay' has a statistically significant negative coefficient which I did not expect. This could be because a polynomial regression might work better since the adjusted r-squared is 0.007 in the result above."
   ]
  },
  {
   "cell_type": "markdown",
   "id": "1343bc0b",
   "metadata": {},
   "source": [
    "# Models"
   ]
  },
  {
   "cell_type": "markdown",
   "id": "54a823bd",
   "metadata": {},
   "source": [
    "## Logistic Regression Model"
   ]
  },
  {
   "cell_type": "code",
   "execution_count": 148,
   "id": "e050b1d4",
   "metadata": {},
   "outputs": [
    {
     "name": "stdout",
     "output_type": "stream",
     "text": [
      "       SpecialDay  Month  VisitorType  Weekend\n",
      "0             0.0      2            1        0\n",
      "1             0.0      2            1        0\n",
      "2             0.0      2            1        0\n",
      "3             0.0      2            1        0\n",
      "4             0.0      2            1        1\n",
      "...           ...    ...          ...      ...\n",
      "12325         0.0     12            1        1\n",
      "12326         0.0     11            1        1\n",
      "12327         0.0     11            1        1\n",
      "12328         0.0     11            1        0\n",
      "12329         0.0     11            0        1\n",
      "\n",
      "[12245 rows x 4 columns] 0        0\n",
      "1        0\n",
      "2        0\n",
      "3        0\n",
      "4        0\n",
      "        ..\n",
      "12325    0\n",
      "12326    0\n",
      "12327    0\n",
      "12328    0\n",
      "12329    0\n",
      "Name: Revenue, Length: 12245, dtype: int32\n"
     ]
    }
   ],
   "source": [
    "# prepare the data for a logistic regression model\n",
    "X, y = data.loc[:,data.columns[:4]], data.loc[:,data.columns[4]]\n",
    "print(X,y)"
   ]
  },
  {
   "cell_type": "code",
   "execution_count": 149,
   "id": "1157c762",
   "metadata": {},
   "outputs": [],
   "source": [
    "# split the data into training and test sets with 5 percent of the data in the test set\n",
    "X_train, X_test, y_train, y_test = train_test_split(X, y, test_size = 0.05)"
   ]
  },
  {
   "cell_type": "code",
   "execution_count": 150,
   "id": "9005041a",
   "metadata": {},
   "outputs": [],
   "source": [
    "# fit a logistic regression model on training set\n",
    "logisticRegModel = LogisticRegression().fit(X_train, y_train)"
   ]
  },
  {
   "cell_type": "code",
   "execution_count": 151,
   "id": "efb42ea4",
   "metadata": {},
   "outputs": [
    {
     "name": "stdout",
     "output_type": "stream",
     "text": [
      "[[-1.07791858  0.09059698 -0.59595944  0.13088877]]\n",
      "Index(['SpecialDay', 'Month', 'VisitorType', 'Weekend'], dtype='object')\n"
     ]
    }
   ],
   "source": [
    "# get the coefficients for the logistic regression model\n",
    "print(logisticRegModel.coef_)\n",
    "print(X_train.columns)"
   ]
  },
  {
   "cell_type": "markdown",
   "id": "a6de3061",
   "metadata": {},
   "source": [
    "Looking at the coefficients, I see that SpecialDay has a negative coefficient which agrees with the previous linear regression result."
   ]
  },
  {
   "cell_type": "code",
   "execution_count": 152,
   "id": "88133272",
   "metadata": {},
   "outputs": [
    {
     "name": "stdout",
     "output_type": "stream",
     "text": [
      "[(1.130839658992564, 'SpecialDay'), (3.47774568456471, 'Month'), (3.646135228277374, 'VisitorType'), (1.2714056204278386, 'Weekend')]\n"
     ]
    }
   ],
   "source": [
    "# checking for multicollinearity in the logistic regression model\n",
    "vif = [(variance_inflation_factor(X,i), X.columns[i]) for i in range(len(X.columns))]\n",
    "print(vif)"
   ]
  },
  {
   "cell_type": "markdown",
   "id": "c53adfdc",
   "metadata": {},
   "source": [
    "The VIF is higher for the variables 'VisitorType' and 'Month', so I will do a linear regression on both to check if any of them should be dropped."
   ]
  },
  {
   "cell_type": "code",
   "execution_count": 153,
   "id": "c4075175",
   "metadata": {},
   "outputs": [
    {
     "name": "stdout",
     "output_type": "stream",
     "text": [
      "                            OLS Regression Results                            \n",
      "==============================================================================\n",
      "Dep. Variable:            VisitorType   R-squared:                       0.015\n",
      "Model:                            OLS   Adj. R-squared:                  0.014\n",
      "Method:                 Least Squares   F-statistic:                     60.60\n",
      "Date:                Mon, 06 Mar 2023   Prob (F-statistic):           7.00e-39\n",
      "Time:                        11:58:05   Log-Likelihood:                -4262.6\n",
      "No. Observations:               12245   AIC:                             8533.\n",
      "Df Residuals:                   12241   BIC:                             8563.\n",
      "Df Model:                           3                                         \n",
      "Covariance Type:            nonrobust                                         \n",
      "==============================================================================\n",
      "                 coef    std err          t      P>|t|      [0.025      0.975]\n",
      "------------------------------------------------------------------------------\n",
      "Intercept      0.9234      0.008    111.298      0.000       0.907       0.940\n",
      "SpecialDay     0.1092      0.016      6.798      0.000       0.078       0.141\n",
      "Weekend       -0.0358      0.007     -4.885      0.000      -0.050      -0.021\n",
      "Month         -0.0079      0.001     -8.344      0.000      -0.010      -0.006\n",
      "==============================================================================\n",
      "Omnibus:                     4367.683   Durbin-Watson:                   2.003\n",
      "Prob(Omnibus):                  0.000   Jarque-Bera (JB):            11220.940\n",
      "Skew:                          -2.045   Prob(JB):                         0.00\n",
      "Kurtosis:                       5.295   Cond. No.                         44.4\n",
      "==============================================================================\n",
      "\n",
      "Notes:\n",
      "[1] Standard Errors assume that the covariance matrix of the errors is correctly specified.\n"
     ]
    }
   ],
   "source": [
    "model = smf.ols(formula = 'VisitorType ~ SpecialDay + Weekend + Month', data = data).fit()\n",
    "print(model.summary())"
   ]
  },
  {
   "cell_type": "markdown",
   "id": "b238e318",
   "metadata": {},
   "source": [
    "Since the adjusted r-squared is low, I decide to keep the variable 'VisitorType' in my analysis."
   ]
  },
  {
   "cell_type": "code",
   "execution_count": 154,
   "id": "03c2e65d",
   "metadata": {},
   "outputs": [
    {
     "name": "stdout",
     "output_type": "stream",
     "text": [
      "                            OLS Regression Results                            \n",
      "==============================================================================\n",
      "Dep. Variable:                  Month   R-squared:                       0.071\n",
      "Model:                            OLS   Adj. R-squared:                  0.071\n",
      "Method:                 Least Squares   F-statistic:                     311.5\n",
      "Date:                Mon, 06 Mar 2023   Prob (F-statistic):          6.37e-195\n",
      "Time:                        11:58:14   Log-Likelihood:                -31864.\n",
      "No. Observations:               12245   AIC:                         6.374e+04\n",
      "Df Residuals:                   12241   BIC:                         6.376e+04\n",
      "Df Model:                           3                                         \n",
      "Covariance Type:            nonrobust                                         \n",
      "===============================================================================\n",
      "                  coef    std err          t      P>|t|      [0.025      0.975]\n",
      "-------------------------------------------------------------------------------\n",
      "Intercept       8.4800      0.082    103.639      0.000       8.320       8.640\n",
      "SpecialDay     -4.2340      0.148    -28.526      0.000      -4.525      -3.943\n",
      "Weekend         0.0994      0.070      1.424      0.155      -0.037       0.236\n",
      "VisitorType    -0.7164      0.086     -8.344      0.000      -0.885      -0.548\n",
      "==============================================================================\n",
      "Omnibus:                    90077.145   Durbin-Watson:                   0.224\n",
      "Prob(Omnibus):                  0.000   Jarque-Bera (JB):             1161.991\n",
      "Skew:                          -0.219   Prob(JB):                    4.75e-253\n",
      "Kurtosis:                       1.556   Cond. No.                         6.86\n",
      "==============================================================================\n",
      "\n",
      "Notes:\n",
      "[1] Standard Errors assume that the covariance matrix of the errors is correctly specified.\n"
     ]
    }
   ],
   "source": [
    "model = smf.ols(formula = 'Month ~ SpecialDay + Weekend + VisitorType', data = data).fit()\n",
    "print(model.summary())"
   ]
  },
  {
   "cell_type": "markdown",
   "id": "cdaa2583",
   "metadata": {},
   "source": [
    "I choose to keep the variable 'Month' in my analysis because the adjusted r-squared is low."
   ]
  },
  {
   "cell_type": "code",
   "execution_count": 155,
   "id": "dc8d5de0",
   "metadata": {},
   "outputs": [
    {
     "data": {
      "text/plain": [
       "0.835236541598695"
      ]
     },
     "execution_count": 155,
     "metadata": {},
     "output_type": "execute_result"
    }
   ],
   "source": [
    "# finding the mean accuracy of the model\n",
    "logisticRegModel.score(X_test, y_test)"
   ]
  },
  {
   "cell_type": "markdown",
   "id": "930339ce",
   "metadata": {},
   "source": [
    "My logistic regression model has a mean accuracy of 0.835."
   ]
  },
  {
   "cell_type": "markdown",
   "id": "d2ebba3b",
   "metadata": {},
   "source": [
    "## Gradient Boosting Classifier"
   ]
  },
  {
   "cell_type": "code",
   "execution_count": 156,
   "id": "6fc5f67d",
   "metadata": {},
   "outputs": [
    {
     "name": "stdout",
     "output_type": "stream",
     "text": [
      "{'ccp_alpha': 0.0, 'criterion': 'friedman_mse', 'init': None, 'learning_rate': 0.05, 'loss': 'deviance', 'max_depth': 10, 'max_features': 'sqrt', 'max_leaf_nodes': None, 'min_impurity_decrease': 0.0, 'min_samples_leaf': 1, 'min_samples_split': 2, 'min_weight_fraction_leaf': 0.0, 'n_estimators': 100, 'n_iter_no_change': None, 'random_state': None, 'subsample': 0.5, 'tol': 0.0001, 'validation_fraction': 0.1, 'verbose': 0, 'warm_start': False}\n"
     ]
    },
    {
     "data": {
      "text/plain": [
       "GradientBoostingClassifier(learning_rate=0.05, max_depth=10,\n",
       "                           max_features='sqrt', subsample=0.5)"
      ]
     },
     "execution_count": 156,
     "metadata": {},
     "output_type": "execute_result"
    }
   ],
   "source": [
    "# fitting a gradient boosting classifier to the training data\n",
    "gradientBoost = GradientBoostingClassifier(learning_rate = 0.05,\\\n",
    "                                           max_depth = 10,\\\n",
    "                                           max_features = 'sqrt',\\\n",
    "                                           subsample = 0.5)\n",
    "print(gradientBoost.get_params())\n",
    "gradientBoost.fit(X_train, y_train)"
   ]
  },
  {
   "cell_type": "code",
   "execution_count": 157,
   "id": "23bb41ca",
   "metadata": {},
   "outputs": [
    {
     "data": {
      "text/plain": [
       "0.835236541598695"
      ]
     },
     "execution_count": 157,
     "metadata": {},
     "output_type": "execute_result"
    }
   ],
   "source": [
    "# finding the mean accuracy of the gradient boosting classifier\n",
    "gradientBoost.score(X_test, y_test)"
   ]
  },
  {
   "cell_type": "markdown",
   "id": "5309cfc8",
   "metadata": {},
   "source": [
    "My gradient boosting classifier has a mean accuracy of 0.835 which is the same as my logistic regression model. Now I will try changing the 'max_features' to 'None' and decreasing the learning rate to 0.01."
   ]
  },
  {
   "cell_type": "code",
   "execution_count": 158,
   "id": "1a6c5a0c",
   "metadata": {},
   "outputs": [
    {
     "name": "stdout",
     "output_type": "stream",
     "text": [
      "{'ccp_alpha': 0.0, 'criterion': 'friedman_mse', 'init': None, 'learning_rate': 0.01, 'loss': 'deviance', 'max_depth': 10, 'max_features': None, 'max_leaf_nodes': None, 'min_impurity_decrease': 0.0, 'min_samples_leaf': 1, 'min_samples_split': 2, 'min_weight_fraction_leaf': 0.0, 'n_estimators': 100, 'n_iter_no_change': None, 'random_state': None, 'subsample': 0.5, 'tol': 0.0001, 'validation_fraction': 0.1, 'verbose': 0, 'warm_start': False}\n"
     ]
    },
    {
     "data": {
      "text/plain": [
       "GradientBoostingClassifier(learning_rate=0.01, max_depth=10, subsample=0.5)"
      ]
     },
     "execution_count": 158,
     "metadata": {},
     "output_type": "execute_result"
    }
   ],
   "source": [
    "gradientBoost = GradientBoostingClassifier(learning_rate = 0.01,\\\n",
    "                                           max_depth = 10,\\\n",
    "                                           subsample = 0.5)\n",
    "print(gradientBoost.get_params())\n",
    "gradientBoost.fit(X_train, y_train)"
   ]
  },
  {
   "cell_type": "code",
   "execution_count": 159,
   "id": "0ede900b",
   "metadata": {},
   "outputs": [
    {
     "data": {
      "text/plain": [
       "0.835236541598695"
      ]
     },
     "execution_count": 159,
     "metadata": {},
     "output_type": "execute_result"
    }
   ],
   "source": [
    "gradientBoost.score(X_test, y_test)"
   ]
  },
  {
   "cell_type": "markdown",
   "id": "d3a2797a",
   "metadata": {},
   "source": [
    "My gradient boosting classifier still has a mean accuracy of 0.835 which is the same as my logistic regression model."
   ]
  },
  {
   "cell_type": "code",
   "execution_count": 160,
   "id": "49153f29",
   "metadata": {},
   "outputs": [
    {
     "name": "stdout",
     "output_type": "stream",
     "text": [
      "[0.07309647 0.65405634 0.19474642 0.07810077]\n",
      "Index(['SpecialDay', 'Month', 'VisitorType', 'Weekend'], dtype='object')\n"
     ]
    }
   ],
   "source": [
    "print(gradientBoost.feature_importances_)\n",
    "print(X_test.columns)"
   ]
  },
  {
   "cell_type": "markdown",
   "id": "b97583ce",
   "metadata": {},
   "source": [
    "## Nonlinear Support Vector Machine Classifier"
   ]
  },
  {
   "cell_type": "code",
   "execution_count": 161,
   "id": "edf4ecb7",
   "metadata": {},
   "outputs": [
    {
     "name": "stdout",
     "output_type": "stream",
     "text": [
      "{'degree': 3, 'kernel': 'linear'}\n"
     ]
    }
   ],
   "source": [
    "# fitting a nonlinear support vector machine classifier to the training data\n",
    "# searching for parameter values with the highest accuracy using K-Folds cross validation\n",
    "\n",
    "kernel = ['linear', 'poly', 'rbf', 'sigmoid']\n",
    "degree = [i for i in range(3, 6)]\n",
    "parameters = {\"kernel\":kernel, \"degree\":degree}\n",
    "searchSVC = GridSearchCV(estimator = SVC(probability=True), param_grid=parameters, scoring = 'accuracy', cv = 5)\n",
    "searchSVC.fit(X_train, y_train)\n",
    "print(searchSVC.best_params_)\n",
    "bestSVC = searchSVC.best_estimator_"
   ]
  },
  {
   "cell_type": "markdown",
   "id": "e54ffbc7",
   "metadata": {},
   "source": [
    "Using these results, I now know that linear kernel might work best."
   ]
  },
  {
   "cell_type": "code",
   "execution_count": 162,
   "id": "f3e46492",
   "metadata": {},
   "outputs": [
    {
     "data": {
      "text/plain": [
       "0.835236541598695"
      ]
     },
     "execution_count": 162,
     "metadata": {},
     "output_type": "execute_result"
    }
   ],
   "source": [
    "# finding the mean accuracy of the nonlinear support vector machine classifier\n",
    "bestSVC.score(X_test, y_test)"
   ]
  },
  {
   "cell_type": "code",
   "execution_count": 163,
   "id": "ad12ef68",
   "metadata": {},
   "outputs": [
    {
     "name": "stdout",
     "output_type": "stream",
     "text": [
      "{'C': 0.03125000000000008, 'gamma': 0.03125}\n"
     ]
    }
   ],
   "source": [
    "c = [np.log(x) for x in np.arange(np.exp(2**(-5)), np.exp(1)+1)]\n",
    "gamma = [x for x in np.arange(2**(-5), 2)]\n",
    "parameters = {\"C\":c, \"gamma\":gamma}\n",
    "searchSVC = GridSearchCV(estimator = SVC(kernel='linear', probability=True), \\\n",
    "                         param_grid=parameters, scoring = 'accuracy', cv = 5)\n",
    "searchSVC.fit(X_train, y_train)\n",
    "print(searchSVC.best_params_)\n",
    "bestSVC = searchSVC.best_estimator_"
   ]
  },
  {
   "cell_type": "code",
   "execution_count": 164,
   "id": "01aeeb05",
   "metadata": {},
   "outputs": [
    {
     "data": {
      "text/plain": [
       "0.835236541598695"
      ]
     },
     "execution_count": 164,
     "metadata": {},
     "output_type": "execute_result"
    }
   ],
   "source": [
    "# finding the mean accuracy of the nonlinear support vector machine classifier\n",
    "bestSVC.score(X_test, y_test)"
   ]
  },
  {
   "cell_type": "code",
   "execution_count": 165,
   "id": "39b87bec",
   "metadata": {},
   "outputs": [
    {
     "name": "stdout",
     "output_type": "stream",
     "text": [
      "[[-2.91376628e-04 -4.15678203e-05  3.12650797e-05  3.12650797e-05]]\n",
      "Index(['SpecialDay', 'Month', 'VisitorType', 'Weekend'], dtype='object')\n"
     ]
    }
   ],
   "source": [
    "# weights for the features\n",
    "print(bestSVC.coef_)\n",
    "print(X_test.columns)"
   ]
  },
  {
   "cell_type": "markdown",
   "id": "0d26edaa",
   "metadata": {},
   "source": [
    "Again, I get the same mean accuracy for the nonlinear support vector machine classifier, so I will use different evaluation metrics and visualizations for these different models."
   ]
  },
  {
   "cell_type": "markdown",
   "id": "3357e866",
   "metadata": {},
   "source": [
    "In summary, I trained three different models on the data and got the same mean accuracy score for all three. Further evaluation metrics will show the differences between my logistic regression model, gradient boosting classifier and nonlinear support vector machine classifier. Looking at the feature importances for the gradient boosting classifier, month is the most important and I think the month variable seems to be the most important one because of the variation in the variable. While 'VisitorType' and 'Weekend' have only 0 and 1, 'Month' has 10 different values. The second most important feature is 'VisitorType'."
   ]
  },
  {
   "cell_type": "markdown",
   "id": "383d92d1",
   "metadata": {},
   "source": [
    "## Evaluation metrics and visualizations"
   ]
  },
  {
   "cell_type": "markdown",
   "id": "6e614c17",
   "metadata": {},
   "source": [
    "For the evaluation metrics, I will evaluate my models using ROC curve, precision-recall curve, confusion matrix and cross validation score."
   ]
  },
  {
   "cell_type": "code",
   "execution_count": 166,
   "id": "fd60d78c",
   "metadata": {},
   "outputs": [
    {
     "data": {
      "image/png": "[encoded data removed]",
      "text/plain": [
       "<Figure size 432x288 with 1 Axes>"
      ]
     },
     "metadata": {
      "needs_background": "light"
     },
     "output_type": "display_data"
    }
   ],
   "source": [
    "# ROC curve for the logistic regression model\n",
    "RocCurveDisplay.from_estimator(logisticRegModel, X_test, y_test)\n",
    "plt.title('ROC curve for the logistic regression model')\n",
    "plt.show()"
   ]
  },
  {
   "cell_type": "code",
   "execution_count": 167,
   "id": "d26ee411",
   "metadata": {},
   "outputs": [
    {
     "data": {
      "image/png": "[encoded data removed]",
      "text/plain": [
       "<Figure size 432x288 with 1 Axes>"
      ]
     },
     "metadata": {
      "needs_background": "light"
     },
     "output_type": "display_data"
    }
   ],
   "source": [
    "# ROC curve for the gradient boosting classifier\n",
    "RocCurveDisplay.from_estimator(gradientBoost, X_test, y_test)\n",
    "plt.title('ROC curve for the gradient boosting classifier')\n",
    "plt.show()"
   ]
  },
  {
   "cell_type": "code",
   "execution_count": 168,
   "id": "fd383ddb",
   "metadata": {},
   "outputs": [
    {
     "data": {
      "image/png": "[encoded data removed]",
      "text/plain": [
       "<Figure size 432x288 with 1 Axes>"
      ]
     },
     "metadata": {
      "needs_background": "light"
     },
     "output_type": "display_data"
    }
   ],
   "source": [
    "# ROC curve for the nonlinear support vector machine classifier\n",
    "RocCurveDisplay.from_estimator(bestSVC, X_test, y_test)\n",
    "plt.title('ROC curve for the nonlinear support vector machine classifier')\n",
    "plt.show()"
   ]
  },
  {
   "cell_type": "code",
   "execution_count": 169,
   "id": "19d36857",
   "metadata": {},
   "outputs": [
    {
     "data": {
      "image/png": "[encoded data removed]",
      "text/plain": [
       "<Figure size 432x288 with 1 Axes>"
      ]
     },
     "metadata": {
      "needs_background": "light"
     },
     "output_type": "display_data"
    }
   ],
   "source": [
    "# precision-recall curve for the logistic regression model\n",
    "PrecisionRecallDisplay.from_estimator(logisticRegModel, X_test, y_test)\n",
    "plt.title('precision-recall curve for the logistic regression model')\n",
    "plt.show()"
   ]
  },
  {
   "cell_type": "code",
   "execution_count": 170,
   "id": "34463e4f",
   "metadata": {},
   "outputs": [
    {
     "data": {
      "image/png": "[encoded data removed]",
      "text/plain": [
       "<Figure size 432x288 with 1 Axes>"
      ]
     },
     "metadata": {
      "needs_background": "light"
     },
     "output_type": "display_data"
    }
   ],
   "source": [
    "# precision-recall curve for the gradient boosting classifier\n",
    "PrecisionRecallDisplay.from_estimator(gradientBoost, X_test, y_test)\n",
    "plt.title('precision-recall curve for the gradient boosting classifier')\n",
    "plt.show()"
   ]
  },
  {
   "cell_type": "code",
   "execution_count": 171,
   "id": "dda9ec36",
   "metadata": {},
   "outputs": [
    {
     "data": {
      "image/png": "[encoded data removed]",
      "text/plain": [
       "<Figure size 432x288 with 1 Axes>"
      ]
     },
     "metadata": {
      "needs_background": "light"
     },
     "output_type": "display_data"
    }
   ],
   "source": [
    "# precision-recall curve for the nonlinear support vector machine classifier\n",
    "PrecisionRecallDisplay.from_estimator(bestSVC, X_test, y_test)\n",
    "plt.title('precision-recall curve for the nonlinear support vector machine classifier')\n",
    "plt.show()"
   ]
  },
  {
   "cell_type": "code",
   "execution_count": 172,
   "id": "e23b2366",
   "metadata": {},
   "outputs": [
    {
     "data": {
      "image/png": "[encoded data removed]",
      "text/plain": [
       "<Figure size 432x288 with 2 Axes>"
      ]
     },
     "metadata": {
      "needs_background": "light"
     },
     "output_type": "display_data"
    }
   ],
   "source": [
    "# confusion matrix for the logistic regression model\n",
    "ConfusionMatrixDisplay.from_estimator(logisticRegModel, X_test, y_test)\n",
    "plt.title('confusion matrix for the logistic regression model')\n",
    "plt.show()"
   ]
  },
  {
   "cell_type": "code",
   "execution_count": 173,
   "id": "4cba97aa",
   "metadata": {},
   "outputs": [
    {
     "data": {
      "image/png": "[encoded data removed]",
      "text/plain": [
       "<Figure size 432x288 with 2 Axes>"
      ]
     },
     "metadata": {
      "needs_background": "light"
     },
     "output_type": "display_data"
    }
   ],
   "source": [
    "# confusion_matrix for the gradient boosting classifier\n",
    "ConfusionMatrixDisplay.from_estimator(gradientBoost, X_test, y_test)\n",
    "plt.title('confusion matrix for the gradient boosting classifier')\n",
    "plt.show()"
   ]
  },
  {
   "cell_type": "code",
   "execution_count": 174,
   "id": "24792d38",
   "metadata": {},
   "outputs": [
    {
     "data": {
      "image/png": "[encoded data removed]",
      "text/plain": [
       "<Figure size 432x288 with 2 Axes>"
      ]
     },
     "metadata": {
      "needs_background": "light"
     },
     "output_type": "display_data"
    }
   ],
   "source": [
    "# confusion_matrix for the nonlinear support vector machine classifier\n",
    "ConfusionMatrixDisplay.from_estimator(bestSVC, X_test, y_test)\n",
    "plt.title('confusion matrix for the nonlinear support vector machine classifier')\n",
    "plt.show()"
   ]
  },
  {
   "cell_type": "code",
   "execution_count": 175,
   "id": "228efabf",
   "metadata": {},
   "outputs": [
    {
     "name": "stdout",
     "output_type": "stream",
     "text": [
      "[0.84571429 0.84571429 0.84571429 0.84489796 0.84489796 0.84558824\n",
      " 0.84558824 0.84558824 0.84558824 0.84558824]\n",
      "[0.84571429 0.84571429 0.84571429 0.84489796 0.84489796 0.84558824\n",
      " 0.84558824 0.84558824 0.84558824 0.84558824]\n",
      "[0.84571429 0.84571429 0.84571429 0.84489796 0.84489796 0.84558824\n",
      " 0.84558824 0.84558824 0.84558824 0.84558824]\n"
     ]
    }
   ],
   "source": [
    "# cross validation score for the logistic regression model\n",
    "print(cross_val_score(logisticRegModel, X, y, cv=10))\n",
    "# cross validation score for the gradient boosting classifier\n",
    "print(cross_val_score(gradientBoost, X, y, cv=10))\n",
    "# cross validation score for the nonlinear support vector machine classifier\n",
    "print(cross_val_score(bestSVC, X, y, cv=10))"
   ]
  },
  {
   "cell_type": "markdown",
   "id": "5ae10a75",
   "metadata": {},
   "source": [
    "From the evaluation metrics, my gradient boosting classifier has the best performance out of the three, followed by my logistic regression model. I will try to improve the performance of my gradient boosting classifier by decreasing the learning rate to 0.005 and setting subsample to 0.1 and evaluate the new model."
   ]
  },
  {
   "cell_type": "markdown",
   "id": "afd1dcb1",
   "metadata": {},
   "source": [
    "## Gradient Boosting Classifier"
   ]
  },
  {
   "cell_type": "code",
   "execution_count": 176,
   "id": "71609e18",
   "metadata": {},
   "outputs": [
    {
     "name": "stdout",
     "output_type": "stream",
     "text": [
      "0.835236541598695\n",
      "[0.09912184 0.58852142 0.16978328 0.14257346]\n",
      "Index(['SpecialDay', 'Month', 'VisitorType', 'Weekend'], dtype='object')\n"
     ]
    }
   ],
   "source": [
    "gradientBoost = GradientBoostingClassifier(learning_rate = 0.005,\\\n",
    "                                           max_depth = 10,\\\n",
    "                                           subsample = 0.1)\n",
    "gradientBoost.fit(X_train, y_train)\n",
    "print(gradientBoost.score(X_test, y_test))\n",
    "print(gradientBoost.feature_importances_)\n",
    "print(X_test.columns)"
   ]
  },
  {
   "cell_type": "code",
   "execution_count": 177,
   "id": "bb338489",
   "metadata": {},
   "outputs": [
    {
     "data": {
      "image/png": "[encoded data removed]",
      "text/plain": [
       "<Figure size 432x288 with 1 Axes>"
      ]
     },
     "metadata": {
      "needs_background": "light"
     },
     "output_type": "display_data"
    },
    {
     "data": {
      "image/png": "[encoded data removed]",
      "text/plain": [
       "<Figure size 432x288 with 1 Axes>"
      ]
     },
     "metadata": {
      "needs_background": "light"
     },
     "output_type": "display_data"
    },
    {
     "data": {
      "image/png": "[encoded data removed]",
      "text/plain": [
       "<Figure size 432x288 with 2 Axes>"
      ]
     },
     "metadata": {
      "needs_background": "light"
     },
     "output_type": "display_data"
    },
    {
     "name": "stdout",
     "output_type": "stream",
     "text": [
      "[0.84571429 0.84571429 0.84571429 0.84489796 0.84489796 0.84558824\n",
      " 0.84558824 0.84558824 0.84558824 0.84558824]\n"
     ]
    }
   ],
   "source": [
    "# evaluation metrics and visualizations for the gradient boosting classifier\n",
    "# ROC curve for the gradient boosting classifier\n",
    "RocCurveDisplay.from_estimator(gradientBoost, X_test, y_test)\n",
    "plt.title('ROC curve for the gradient boosting classifier')\n",
    "plt.show()\n",
    "# precision-recall curve for the gradient boosting classifier\n",
    "PrecisionRecallDisplay.from_estimator(gradientBoost, X_test, y_test)\n",
    "plt.title('precision-recall curve for the gradient boosting classifier')\n",
    "plt.show()\n",
    "# confusion_matrix for the gradient boosting classifier\n",
    "ConfusionMatrixDisplay.from_estimator(gradientBoost, X_test, y_test)\n",
    "plt.title('confusion matrix for the gradient boosting classifier')\n",
    "plt.show()\n",
    "# cross validation score for the gradient boosting classifier\n",
    "print(cross_val_score(gradientBoost, X, y, cv=10))"
   ]
  },
  {
   "cell_type": "markdown",
   "id": "60f65c7e",
   "metadata": {},
   "source": [
    "Looking at the ROC curves, the previous gradient boosting classifier had an AUC of 0.65 and the new gradient boosting classifier has an AUC of 0.66 which is a slight improvement in the model performance."
   ]
  },
  {
   "cell_type": "markdown",
   "id": "9f48f250",
   "metadata": {},
   "source": [
    "# Discussion and Conclusion"
   ]
  },
  {
   "cell_type": "markdown",
   "id": "42d77bc1",
   "metadata": {},
   "source": [
    "Results of my models do not support the idea that special days have the biggest effect on whether a customer makes a purchase online or not. The most important features to consider are the month and whether the customer is a new or returning visitor. All three of my models had the same mean accuracy score. For my gradient boosting classifier, changing the learning rate and the subsample did not result in a considerable improvement in my original gradient boosting classifier and this may be because the dataset was missing the months of January and April. Including the months of January and April may improve my model performances."
   ]
  },
  {
   "cell_type": "markdown",
   "id": "bcc1e401",
   "metadata": {},
   "source": [
    "My GitHub repository link for this project is https://github.com/uch-b/project ."
   ]
  }
 ],
 "metadata": {
  "kernelspec": {
   "display_name": "Python 3 (ipykernel)",
   "language": "python",
   "name": "python3"
  },
  "language_info": {
   "codemirror_mode": {
    "name": "ipython",
    "version": 3
   },
   "file_extension": ".py",
   "mimetype": "text/x-python",
   "name": "python",
   "nbconvert_exporter": "python",
   "pygments_lexer": "ipython3",
   "version": "3.9.12"
  }
 },
 "nbformat": 4,
 "nbformat_minor": 5
}
